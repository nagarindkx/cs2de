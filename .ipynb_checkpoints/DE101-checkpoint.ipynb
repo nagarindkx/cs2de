{
 "cells": [
  {
   "cell_type": "markdown",
   "id": "ae7bcf3e-71c3-499e-87bd-bd5d70c84747",
   "metadata": {},
   "source": [
    "# Introduction to Data Engineer\n",
    "## @Computer Science: *December 21, 2023*\n",
    "---\n",
    "**Kanakorn Horsiritham**  \n",
    "Digital Innovation and Data Analytics (DIDA)  \n",
    "Faculty of Medicine  \n",
    "Prince of Songkla University  \n",
    "\n",
    "\n",
    "\n",
    "*Credit: Outline by Google Bard*"
   ]
  },
  {
   "cell_type": "code",
   "execution_count": 1,
   "id": "a2f6ee6d-e26a-4d89-b6c5-4944caeeb938",
   "metadata": {
    "tags": []
   },
   "outputs": [
    {
     "data": {
      "text/html": [
       "<style>\n",
       "  .important {\n",
       "    background-color: red;  /* Add this line for red background */\n",
       "    color: white;          /* Add this line for white text */\n",
       "    font-weight: bold;\n",
       "    font-size: 24px;\n",
       "  }\n",
       "  .code-cell {\n",
       "    color: blue;\n",
       "    padding-left: 15px;\n",
       "    font-weight: bold;\n",
       "    font-size: 24px;\n",
       "  }\n",
       "</style>\n"
      ],
      "text/plain": [
       "<IPython.core.display.HTML object>"
      ]
     },
     "metadata": {},
     "output_type": "display_data"
    }
   ],
   "source": [
    "%%html\n",
    "<style>\n",
    "  .important {\n",
    "    background-color: red;  /* Add this line for red background */\n",
    "    color: white;          /* Add this line for white text */\n",
    "    font-weight: bold;\n",
    "    font-size: 24px;\n",
    "  }\n",
    "  .code-cell {\n",
    "    color: blue;\n",
    "    padding-left: 15px;\n",
    "    font-weight: bold;\n",
    "    font-size: 24px;\n",
    "  }\n",
    "</style>"
   ]
  },
  {
   "cell_type": "markdown",
   "id": "2fe3d6ac-9a33-4e92-8c12-98663ff882e6",
   "metadata": {
    "toc-hr-collapsed": true
   },
   "source": [
    "# Module 1: Python Programming Basics"
   ]
  },
  {
   "cell_type": "markdown",
   "id": "3e655d5c-e9c8-4a8b-a352-18db59f0dbf3",
   "metadata": {
    "toc-hr-collapsed": true
   },
   "source": [
    "## Python fundamentals"
   ]
  },
  {
   "cell_type": "markdown",
   "id": "a2005f08-7fba-4a49-b335-2dfe4cf47521",
   "metadata": {},
   "source": [
    "**ไหว้ครู**  \n",
    "จง copy คำสั่งต่อไปนี้ แล้วนำไปวางใน Cell ด้านล่าง แล้วกด run หรือ Crtl+Enter\n",
    "```python\n",
    "print('Hello World')\n",
    "```\n",
    "\n",
    "**Variables**  \n",
    "ใน python สามารถสร้างตัวแปรได้โดยไม่จำเป็นต้องประกาศชนิด\n",
    "\n",
    "```python\n",
    "name=\"John Doe\"\n",
    "height=150\n",
    "weight=50.5\n",
    "```\n",
    "\n",
    "- การเรียกใช้ variable นั้น สามารถเรียกใช้ได้เลย  \n",
    "- เช่น การแสดงค่าของตัวแปรด้วย functiion `print` \n",
    "\n",
    "```python\n",
    "print(name)\n",
    "print(\"my name is\" + name)  \n",
    "print(f\"my name is {name}\")  \n",
    "``` \n",
    "\n",
    "จากตัวอย่างด้านบน \n",
    "```python\n",
    "print(f\"my name is {}\")\n",
    "```\n",
    "เป็นการแสดงผลข้อความพร้อม variable โดยใช้\n",
    "```python\n",
    "f\"...{variable}...\"\n",
    "```\n",
    "\n",
    "**data types**\n",
    "```python\n",
    "type(name)\n",
    "```  \n",
    "ลองดูกับ variable อื่น ๆ ดู\n",
    "\n",
    "**operators**  \n",
    "คำนวน BMI สูตรคือ weight/(height_in_meter**2)\n",
    "```python\n",
    "weight=50\n",
    "height=1.50\n",
    "BMI=weight/(height**2)\n",
    "print(f\"BMI: {BMI}\")\n",
    "```  \n",
    "\n",
    "**control flow**\n",
    "- ***if the else***\n",
    "\n",
    "```python\n",
    "weight=50\n",
    "height=150\n",
    "height_in_meter=-1\n",
    "if height>=0.5 and height<=2.5:\n",
    "    height_in_meter=height\n",
    "else:\n",
    "    if height < 0.5 or height > 250:\n",
    "        height_in_meter=0\n",
    "    else:\n",
    "        height_in_meter=height*0.01\n",
    "if height_in_meter>0:\n",
    "    BMI=weight/(height_in_meter**2)\n",
    "    print(f\"BMI: {BMI}\")\n",
    "else:\n",
    "    print('Impossible')\n",
    "```\n",
    "- ***for loop***\n",
    "\n",
    "```python\n",
    "for i in range(1,10):\n",
    "    print(i)\n",
    "```\n",
    "- ***while loop***\n",
    "\n",
    "```python\n",
    "i=10\n",
    "while>=0:\n",
    "    print(i)\n",
    "    i-=1\n",
    "```\n",
    "\n",
    "**functions**  \n",
    "```python\n",
    "def cal_bmi(weight, height):    \n",
    "    BMI=weight/(height**2)\n",
    "    return BMI \n",
    "```"
   ]
  },
  {
   "cell_type": "markdown",
   "id": "a29ebeaa-c03b-4f15-b0f6-271302c659f0",
   "metadata": {},
   "source": [
    "<span class='code-cell'>วางโค้ดที่นี่ แล้วกด Ctrl+Enter</span>"
   ]
  },
  {
   "cell_type": "code",
   "execution_count": null,
   "id": "50a1af12-9eb2-4542-a829-da60296a26ec",
   "metadata": {},
   "outputs": [],
   "source": []
  },
  {
   "cell_type": "markdown",
   "id": "0b414f9c-43a3-4a18-ad44-2f36cf0da6f3",
   "metadata": {},
   "source": [
    "**Trick**  \n",
    "เครื่องหมาย quote `'` และ `\"` ใน python จะหมายถึง text และเป็นบรรทัดเดียว  \n",
    "ถ้าต้องการแสดงผลหลายบรรทัด มี 2 ทางเลือก  \n",
    "1. ใส่ `\\n` เข้าไปท้ายข้อความ\n",
    "2. ใช้ triple quote `'''` หรือ `\"\"\"`\n",
    "\n",
    "ตัวอย่าง\n",
    "```python\n",
    "address1=f\"บรรทัดที่ 1\\nบรรทัดที่ 2\\nอันนี้ variable name: {name}\"\n",
    "address2=f\"\"\"บรรทัดที่ 1\n",
    "บรรทัดที่ 2\n",
    "อันนี้ variable name: {name}\"\"\"\n",
    "patient_info=f\"\"\"\n",
    "name: {name}\n",
    "height: {height}\n",
    "weight: {weight}\n",
    "\"\"\"\n",
    "print(address1)\n",
    "print(address2)\n",
    "print(patient_info)\n",
    "\n",
    "```"
   ]
  },
  {
   "cell_type": "markdown",
   "id": "bc0e6ea5-8b6b-4f8f-aa7f-a8926da74c1b",
   "metadata": {},
   "source": [
    "<span class='code-cell'>วางโค้ดที่นี่ แล้วกด Ctrl+Enter</span>"
   ]
  },
  {
   "cell_type": "code",
   "execution_count": null,
   "id": "ce4ba295-d0fb-4211-ac55-0d3a4e97adeb",
   "metadata": {},
   "outputs": [],
   "source": []
  },
  {
   "cell_type": "markdown",
   "id": "c0acbcc4-3f63-41a9-8efc-2a2984b8d4b8",
   "metadata": {},
   "source": [
    "## Data Structure"
   ]
  },
  {
   "cell_type": "markdown",
   "id": "02d39e24-d7fd-4cab-813b-3eb1e6c7f143",
   "metadata": {},
   "source": [
    "**list** \n",
    "```python\n",
    "lab_data=['1234567', '2023-12-21', '2023-12-21', 'BUN', '23']\n",
    "lab_data=[\n",
    "    ['1234567', '2019-12-01', '2019-12-01', 'BUN', '23'],\n",
    "    ['1234567', '2020-12-07', '2020-12-08', 'BUN', '20'],\n",
    "    ['1234567', '2022-12-14', '2022-12-15', 'BUN', '15'],\n",
    "    ['1234567', '2023-12-21', '2023-12-21', 'BUN', '7'],\n",
    "]\n",
    "\n",
    "```\n",
    "**tuple**  \n",
    "```python\n",
    "patient_info2=['1234567', 'John', 'Doe', 150, 50.3, '2000-05-12']\n",
    "```\n",
    "**dictionary**  \n",
    "```python\n",
    "patient_info3={\n",
    "    'pid'      :'1234567',\n",
    "    'firstname':'John',\n",
    "    'lastname' :'Doe',\n",
    "    'height'   :150,\n",
    "    'weight'   :50.3,\n",
    "    'dob'      :'2000-05-12'\n",
    "}\n",
    "```\n",
    "\n",
    "**set**  \n",
    "```python\n",
    "lab_set={'BUN','creatinine','Na','K','Cl','Ca'}\n",
    "```"
   ]
  },
  {
   "cell_type": "markdown",
   "id": "4ad3864f-222c-411b-aa87-09ffd3fc08e3",
   "metadata": {},
   "source": [
    "<span class='code-cell'>วางโค้ดที่นี่ แล้วกด Ctrl+Enter</span>"
   ]
  },
  {
   "cell_type": "code",
   "execution_count": null,
   "id": "074b7793-891d-448f-a296-f7bfca330a00",
   "metadata": {},
   "outputs": [],
   "source": []
  },
  {
   "cell_type": "markdown",
   "id": "2bebe191-5db3-4813-b4fd-19842940531e",
   "metadata": {},
   "source": [
    "### Modules and libraries"
   ]
  },
  {
   "cell_type": "markdown",
   "id": "f7db587e-a699-4457-a330-402d8d48abf3",
   "metadata": {},
   "source": [
    "```python\n",
    "import numpy as np\n",
    "import pandas as pd\n",
    "import re\n",
    "from datetime import datetime\n",
    "```"
   ]
  },
  {
   "cell_type": "markdown",
   "id": "016a9a14-1f1a-4d71-ba8e-067230d1cc3c",
   "metadata": {},
   "source": [
    "<span class='code-cell'>วางโค้ดที่นี่ แล้วกด Ctrl+Enter</span>"
   ]
  },
  {
   "cell_type": "code",
   "execution_count": null,
   "id": "e5cb7ae8-49ba-46ef-a2d9-369037f01d60",
   "metadata": {},
   "outputs": [],
   "source": []
  },
  {
   "cell_type": "markdown",
   "id": "f6fd9b07-9c6d-4cb2-9bce-20f0afc5dc76",
   "metadata": {},
   "source": [
    "### Simple calculations with Python"
   ]
  },
  {
   "cell_type": "markdown",
   "id": "fc01a604-60b6-4e16-ab16-46460d0fb00e",
   "metadata": {},
   "source": [
    "**ลองคำนวนค่าต่อไปนี้**\n",
    "\n",
    "- จาก patient_info3 ตอนนี้ John Doe อายุเท่าไหร่ (ปี)\n",
    "- จาก patient_info3 และ lab_data แต่ละครั้งที่มาตรวจ เค้าอายุเท่าไหร่ (ปี) "
   ]
  },
  {
   "cell_type": "markdown",
   "id": "21bbe875-519a-4d22-8d1d-baa42ea4e674",
   "metadata": {},
   "source": [
    "<span class='code-cell'>วางโค้ดที่นี่ แล้วกด Ctrl+Enter</span>"
   ]
  },
  {
   "cell_type": "code",
   "execution_count": null,
   "id": "0250fb62-a7c7-4e7a-b51e-19358e759eb6",
   "metadata": {},
   "outputs": [],
   "source": []
  },
  {
   "cell_type": "markdown",
   "id": "a7533da6-1c8d-4542-ac84-3b9586ea3832",
   "metadata": {},
   "source": [
    "### Exploring NumPy arrays and Pandas DataFrames for data manipulation"
   ]
  },
  {
   "cell_type": "markdown",
   "id": "612d61d7-6168-43ba-9fc3-2c7afd1c51ab",
   "metadata": {},
   "source": [
    "จาก `lab_data`, `patient_info3` และ\n",
    "\n",
    "```python\n",
    "columns={'pid','date_request','date_out','labname','value'}\n",
    "df = pd.DataFrame(lab_data, columns=columns)\n",
    "df\n",
    "```"
   ]
  },
  {
   "cell_type": "markdown",
   "id": "cc8c31ed-6969-4499-ac4f-49163430e7ab",
   "metadata": {},
   "source": [
    "<span class='code-cell'>วางโค้ดที่นี่ แล้วกด Ctrl+Enter</span>"
   ]
  },
  {
   "cell_type": "code",
   "execution_count": null,
   "id": "6a106e0f-7ac7-4cc5-aa12-5da44fe1a3c6",
   "metadata": {},
   "outputs": [],
   "source": []
  },
  {
   "cell_type": "markdown",
   "id": "3342b795-c08e-4a23-a6c2-c229a162034f",
   "metadata": {},
   "source": [
    "# Module 2"
   ]
  },
  {
   "cell_type": "markdown",
   "id": "d619c640-b691-4ff4-b924-108f7f515596",
   "metadata": {},
   "source": [
    "## Extract with Regular Expression\n",
    "\n",
    "```python\n",
    "lab1=\"\"\"\n",
    "Sample: #Clotted blood\n",
    "Received 01/01/59 05:53\n",
    "  Test      Result [Ref. units]\n",
    "๏ *BUN      (L)5.6 [6-20 mg%]\n",
    "๏ *CREAT   (L)0.38 [0.51-0.95 mg%]\n",
    "๏ *Na+    (L)135.9 [136-145 mmol/L]\n",
    "๏ *K +     (L)3.39 [3.5-5.1 mmol/L]\n",
    "๏ *Cl -      100.4 [98-107 mmol/L]\n",
    "๏ *T-CO2      25.0 [22-29 mmol/L]\n",
    "๏ eGFR-EP      129 [ ml/min/1.7]\n",
    "๏ eGFR-MD      196 [ ml/min/1.7]\n",
    "\"\"\"\n",
    "\n",
    "lab2=\"\"\"\n",
    "Received: 02/12/66 05:48\n",
    "Sample: Lit\n",
    "  Test         Result [Ref. units]\n",
    "๏ BUN             8.5 [7.0-18.7 mg/\n",
    "๏ Creatinine (L) 0.40 [0.55-1.02 mg\n",
    "๏ Na+        (L)131.0 [136-145 mmol\n",
    "๏ K+             3.68 [3.4-4.4 mmol\n",
    "๏ Cl-        (L) 97.2 [98-107 mmol/\n",
    "๏ Total CO2      23.3 [22-29 mmol/L\n",
    "๏ Calcium    (L)  8.2 [8.4-10.2 mg/\n",
    "- Correct Calcium   9.3 [mg/dL]\n",
    "๏ Phosphorus (L)  1.8 [2.3-4.7 mg/d\n",
    "๏ D.bilirubin    0.30 [0-0.5 mg/dL]\n",
    "๏ T.Bilirubin    0.63 [0.2-1.2 mg/d\n",
    "๏ AST        (H)   40 [11-34 U/L]\n",
    "๏ ALT              19 [<34 U/L]\n",
    "๏ ALP              87 [46-122 U/L]\n",
    "๏ T.Protein       6.7 [6.4-8.3 g/dL\n",
    "๏ Albumin    (L)  2.6 [3.5-5.0 g/dL\n",
    "- Globulin        4.1 [g/dL]\n",
    "๏ eGFR(CKD-EPI)   138 ml/min/1.7m2\n",
    "๏ eGFR(MDRD)      185 ml/min/1.7m2\n",
    "\"\"\"\n",
    "\n",
    "pattern = fr\"BUN(.*)\"\n",
    "\n",
    "re1=re.compile(pattern)\n",
    "re1.search(lab1).group(1)\n",
    "\n",
    "```"
   ]
  },
  {
   "cell_type": "markdown",
   "id": "6e7fca6b-3b16-4877-ae04-118dc9852d56",
   "metadata": {},
   "source": [
    "<span class='code-cell'>วางโค้ดที่นี่ แล้วกด Ctrl+Enter</span>"
   ]
  },
  {
   "cell_type": "code",
   "execution_count": null,
   "id": "3dca3b6c-fbaa-4d35-8d7f-6160eb3ba131",
   "metadata": {},
   "outputs": [],
   "source": []
  },
  {
   "cell_type": "markdown",
   "id": "383ddb5b-63c7-4680-a9cb-d08c11e52391",
   "metadata": {},
   "source": [
    "# Quiz\n",
    "1. จาก lab1, lab2 จง เขียน Regular Expression เพื่อแกะข้อมูลของ lab_set\n",
    "2. เก็บข้อมูลที่ได้ ให้อยู่ในรูปแบบ Pandas dataframe"
   ]
  },
  {
   "cell_type": "markdown",
   "id": "984f2c0e-6027-49fe-844d-09ffd1924736",
   "metadata": {},
   "source": [
    "<span class='code-cell'>วางโค้ดที่นี่ แล้วกด Ctrl+Enter</span>"
   ]
  },
  {
   "cell_type": "code",
   "execution_count": null,
   "id": "38654397-e0e7-4462-b1b1-62020ae51dac",
   "metadata": {},
   "outputs": [],
   "source": []
  }
 ],
 "metadata": {
  "kernelspec": {
   "display_name": "Python 3",
   "language": "python",
   "name": "python3"
  },
  "language_info": {
   "codemirror_mode": {
    "name": "ipython",
    "version": 3
   },
   "file_extension": ".py",
   "mimetype": "text/x-python",
   "name": "python",
   "nbconvert_exporter": "python",
   "pygments_lexer": "ipython3",
   "version": "3.8.10"
  },
  "toc-autonumbering": false,
  "toc-showcode": false,
  "toc-showmarkdowntxt": true,
  "toc-showtags": false,
  "widgets": {
   "application/vnd.jupyter.widget-state+json": {
    "state": {},
    "version_major": 2,
    "version_minor": 0
   }
  }
 },
 "nbformat": 4,
 "nbformat_minor": 5
}
